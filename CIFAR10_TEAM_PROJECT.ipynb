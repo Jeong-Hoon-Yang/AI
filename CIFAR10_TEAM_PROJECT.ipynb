{
  "nbformat": 4,
  "nbformat_minor": 0,
  "metadata": {
    "colab": {
      "name": "CIFAR10 TEAM PROJECT",
      "provenance": [],
      "collapsed_sections": []
    },
    "kernelspec": {
      "name": "python3",
      "display_name": "Python 3"
    },
    "language_info": {
      "name": "python"
    },
    "widgets": {
      "application/vnd.jupyter.widget-state+json": {
        "eec95ab349df45188cf364a91d49633e": {
          "model_module": "@jupyter-widgets/controls",
          "model_name": "HBoxModel",
          "model_module_version": "1.5.0",
          "state": {
            "_dom_classes": [],
            "_model_module": "@jupyter-widgets/controls",
            "_model_module_version": "1.5.0",
            "_model_name": "HBoxModel",
            "_view_count": null,
            "_view_module": "@jupyter-widgets/controls",
            "_view_module_version": "1.5.0",
            "_view_name": "HBoxView",
            "box_style": "",
            "children": [
              "IPY_MODEL_e7a8c7acd3364d7db1c9d1499c0b0f63",
              "IPY_MODEL_1d2dc70d72c84db391d539c4e91a8c52",
              "IPY_MODEL_1358c4f9eedf4418870767e653acc7e5"
            ],
            "layout": "IPY_MODEL_6c0367a99f514644977eb4ac2e53e2fb"
          }
        },
        "e7a8c7acd3364d7db1c9d1499c0b0f63": {
          "model_module": "@jupyter-widgets/controls",
          "model_name": "HTMLModel",
          "model_module_version": "1.5.0",
          "state": {
            "_dom_classes": [],
            "_model_module": "@jupyter-widgets/controls",
            "_model_module_version": "1.5.0",
            "_model_name": "HTMLModel",
            "_view_count": null,
            "_view_module": "@jupyter-widgets/controls",
            "_view_module_version": "1.5.0",
            "_view_name": "HTMLView",
            "description": "",
            "description_tooltip": null,
            "layout": "IPY_MODEL_cd4e3206eb164824953b34c03c13d8f5",
            "placeholder": "​",
            "style": "IPY_MODEL_b2ded4dade024c81b7dc91a6d6e7c145",
            "value": ""
          }
        },
        "1d2dc70d72c84db391d539c4e91a8c52": {
          "model_module": "@jupyter-widgets/controls",
          "model_name": "FloatProgressModel",
          "model_module_version": "1.5.0",
          "state": {
            "_dom_classes": [],
            "_model_module": "@jupyter-widgets/controls",
            "_model_module_version": "1.5.0",
            "_model_name": "FloatProgressModel",
            "_view_count": null,
            "_view_module": "@jupyter-widgets/controls",
            "_view_module_version": "1.5.0",
            "_view_name": "ProgressView",
            "bar_style": "success",
            "description": "",
            "description_tooltip": null,
            "layout": "IPY_MODEL_52222e08f68e4b0d81e3d271141dea76",
            "max": 170498071,
            "min": 0,
            "orientation": "horizontal",
            "style": "IPY_MODEL_aa9778b1300c4bab8783a7d70dca2218",
            "value": 170498071
          }
        },
        "1358c4f9eedf4418870767e653acc7e5": {
          "model_module": "@jupyter-widgets/controls",
          "model_name": "HTMLModel",
          "model_module_version": "1.5.0",
          "state": {
            "_dom_classes": [],
            "_model_module": "@jupyter-widgets/controls",
            "_model_module_version": "1.5.0",
            "_model_name": "HTMLModel",
            "_view_count": null,
            "_view_module": "@jupyter-widgets/controls",
            "_view_module_version": "1.5.0",
            "_view_name": "HTMLView",
            "description": "",
            "description_tooltip": null,
            "layout": "IPY_MODEL_c0f80b0dfcf3495b87662cfa05f0e8d7",
            "placeholder": "​",
            "style": "IPY_MODEL_fb69a707615745a78c3d4f973c5c2670",
            "value": " 170499072/? [00:02&lt;00:00, 78352243.40it/s]"
          }
        },
        "6c0367a99f514644977eb4ac2e53e2fb": {
          "model_module": "@jupyter-widgets/base",
          "model_name": "LayoutModel",
          "model_module_version": "1.2.0",
          "state": {
            "_model_module": "@jupyter-widgets/base",
            "_model_module_version": "1.2.0",
            "_model_name": "LayoutModel",
            "_view_count": null,
            "_view_module": "@jupyter-widgets/base",
            "_view_module_version": "1.2.0",
            "_view_name": "LayoutView",
            "align_content": null,
            "align_items": null,
            "align_self": null,
            "border": null,
            "bottom": null,
            "display": null,
            "flex": null,
            "flex_flow": null,
            "grid_area": null,
            "grid_auto_columns": null,
            "grid_auto_flow": null,
            "grid_auto_rows": null,
            "grid_column": null,
            "grid_gap": null,
            "grid_row": null,
            "grid_template_areas": null,
            "grid_template_columns": null,
            "grid_template_rows": null,
            "height": null,
            "justify_content": null,
            "justify_items": null,
            "left": null,
            "margin": null,
            "max_height": null,
            "max_width": null,
            "min_height": null,
            "min_width": null,
            "object_fit": null,
            "object_position": null,
            "order": null,
            "overflow": null,
            "overflow_x": null,
            "overflow_y": null,
            "padding": null,
            "right": null,
            "top": null,
            "visibility": null,
            "width": null
          }
        },
        "cd4e3206eb164824953b34c03c13d8f5": {
          "model_module": "@jupyter-widgets/base",
          "model_name": "LayoutModel",
          "model_module_version": "1.2.0",
          "state": {
            "_model_module": "@jupyter-widgets/base",
            "_model_module_version": "1.2.0",
            "_model_name": "LayoutModel",
            "_view_count": null,
            "_view_module": "@jupyter-widgets/base",
            "_view_module_version": "1.2.0",
            "_view_name": "LayoutView",
            "align_content": null,
            "align_items": null,
            "align_self": null,
            "border": null,
            "bottom": null,
            "display": null,
            "flex": null,
            "flex_flow": null,
            "grid_area": null,
            "grid_auto_columns": null,
            "grid_auto_flow": null,
            "grid_auto_rows": null,
            "grid_column": null,
            "grid_gap": null,
            "grid_row": null,
            "grid_template_areas": null,
            "grid_template_columns": null,
            "grid_template_rows": null,
            "height": null,
            "justify_content": null,
            "justify_items": null,
            "left": null,
            "margin": null,
            "max_height": null,
            "max_width": null,
            "min_height": null,
            "min_width": null,
            "object_fit": null,
            "object_position": null,
            "order": null,
            "overflow": null,
            "overflow_x": null,
            "overflow_y": null,
            "padding": null,
            "right": null,
            "top": null,
            "visibility": null,
            "width": null
          }
        },
        "b2ded4dade024c81b7dc91a6d6e7c145": {
          "model_module": "@jupyter-widgets/controls",
          "model_name": "DescriptionStyleModel",
          "model_module_version": "1.5.0",
          "state": {
            "_model_module": "@jupyter-widgets/controls",
            "_model_module_version": "1.5.0",
            "_model_name": "DescriptionStyleModel",
            "_view_count": null,
            "_view_module": "@jupyter-widgets/base",
            "_view_module_version": "1.2.0",
            "_view_name": "StyleView",
            "description_width": ""
          }
        },
        "52222e08f68e4b0d81e3d271141dea76": {
          "model_module": "@jupyter-widgets/base",
          "model_name": "LayoutModel",
          "model_module_version": "1.2.0",
          "state": {
            "_model_module": "@jupyter-widgets/base",
            "_model_module_version": "1.2.0",
            "_model_name": "LayoutModel",
            "_view_count": null,
            "_view_module": "@jupyter-widgets/base",
            "_view_module_version": "1.2.0",
            "_view_name": "LayoutView",
            "align_content": null,
            "align_items": null,
            "align_self": null,
            "border": null,
            "bottom": null,
            "display": null,
            "flex": null,
            "flex_flow": null,
            "grid_area": null,
            "grid_auto_columns": null,
            "grid_auto_flow": null,
            "grid_auto_rows": null,
            "grid_column": null,
            "grid_gap": null,
            "grid_row": null,
            "grid_template_areas": null,
            "grid_template_columns": null,
            "grid_template_rows": null,
            "height": null,
            "justify_content": null,
            "justify_items": null,
            "left": null,
            "margin": null,
            "max_height": null,
            "max_width": null,
            "min_height": null,
            "min_width": null,
            "object_fit": null,
            "object_position": null,
            "order": null,
            "overflow": null,
            "overflow_x": null,
            "overflow_y": null,
            "padding": null,
            "right": null,
            "top": null,
            "visibility": null,
            "width": null
          }
        },
        "aa9778b1300c4bab8783a7d70dca2218": {
          "model_module": "@jupyter-widgets/controls",
          "model_name": "ProgressStyleModel",
          "model_module_version": "1.5.0",
          "state": {
            "_model_module": "@jupyter-widgets/controls",
            "_model_module_version": "1.5.0",
            "_model_name": "ProgressStyleModel",
            "_view_count": null,
            "_view_module": "@jupyter-widgets/base",
            "_view_module_version": "1.2.0",
            "_view_name": "StyleView",
            "bar_color": null,
            "description_width": ""
          }
        },
        "c0f80b0dfcf3495b87662cfa05f0e8d7": {
          "model_module": "@jupyter-widgets/base",
          "model_name": "LayoutModel",
          "model_module_version": "1.2.0",
          "state": {
            "_model_module": "@jupyter-widgets/base",
            "_model_module_version": "1.2.0",
            "_model_name": "LayoutModel",
            "_view_count": null,
            "_view_module": "@jupyter-widgets/base",
            "_view_module_version": "1.2.0",
            "_view_name": "LayoutView",
            "align_content": null,
            "align_items": null,
            "align_self": null,
            "border": null,
            "bottom": null,
            "display": null,
            "flex": null,
            "flex_flow": null,
            "grid_area": null,
            "grid_auto_columns": null,
            "grid_auto_flow": null,
            "grid_auto_rows": null,
            "grid_column": null,
            "grid_gap": null,
            "grid_row": null,
            "grid_template_areas": null,
            "grid_template_columns": null,
            "grid_template_rows": null,
            "height": null,
            "justify_content": null,
            "justify_items": null,
            "left": null,
            "margin": null,
            "max_height": null,
            "max_width": null,
            "min_height": null,
            "min_width": null,
            "object_fit": null,
            "object_position": null,
            "order": null,
            "overflow": null,
            "overflow_x": null,
            "overflow_y": null,
            "padding": null,
            "right": null,
            "top": null,
            "visibility": null,
            "width": null
          }
        },
        "fb69a707615745a78c3d4f973c5c2670": {
          "model_module": "@jupyter-widgets/controls",
          "model_name": "DescriptionStyleModel",
          "model_module_version": "1.5.0",
          "state": {
            "_model_module": "@jupyter-widgets/controls",
            "_model_module_version": "1.5.0",
            "_model_name": "DescriptionStyleModel",
            "_view_count": null,
            "_view_module": "@jupyter-widgets/base",
            "_view_module_version": "1.2.0",
            "_view_name": "StyleView",
            "description_width": ""
          }
        },
        "18d24945f0e742c19c1d2ef585144b81": {
          "model_module": "@jupyter-widgets/controls",
          "model_name": "HBoxModel",
          "model_module_version": "1.5.0",
          "state": {
            "_dom_classes": [],
            "_model_module": "@jupyter-widgets/controls",
            "_model_module_version": "1.5.0",
            "_model_name": "HBoxModel",
            "_view_count": null,
            "_view_module": "@jupyter-widgets/controls",
            "_view_module_version": "1.5.0",
            "_view_name": "HBoxView",
            "box_style": "",
            "children": [
              "IPY_MODEL_f38df665491e4dc2a9fbc3698ca177d6",
              "IPY_MODEL_ecf3e39f84984c68a121a45e087e27df",
              "IPY_MODEL_ed5ae13896dc488e9115fe388d356ffb"
            ],
            "layout": "IPY_MODEL_ec663f710b8a45539e9d054c3a1aedb1"
          }
        },
        "f38df665491e4dc2a9fbc3698ca177d6": {
          "model_module": "@jupyter-widgets/controls",
          "model_name": "HTMLModel",
          "model_module_version": "1.5.0",
          "state": {
            "_dom_classes": [],
            "_model_module": "@jupyter-widgets/controls",
            "_model_module_version": "1.5.0",
            "_model_name": "HTMLModel",
            "_view_count": null,
            "_view_module": "@jupyter-widgets/controls",
            "_view_module_version": "1.5.0",
            "_view_name": "HTMLView",
            "description": "",
            "description_tooltip": null,
            "layout": "IPY_MODEL_7cabaa04a76542b6b1d5677317ee6505",
            "placeholder": "​",
            "style": "IPY_MODEL_51e1093e4e854d4fa9947edd0c6189c1",
            "value": ""
          }
        },
        "ecf3e39f84984c68a121a45e087e27df": {
          "model_module": "@jupyter-widgets/controls",
          "model_name": "FloatProgressModel",
          "model_module_version": "1.5.0",
          "state": {
            "_dom_classes": [],
            "_model_module": "@jupyter-widgets/controls",
            "_model_module_version": "1.5.0",
            "_model_name": "FloatProgressModel",
            "_view_count": null,
            "_view_module": "@jupyter-widgets/controls",
            "_view_module_version": "1.5.0",
            "_view_name": "ProgressView",
            "bar_style": "success",
            "description": "",
            "description_tooltip": null,
            "layout": "IPY_MODEL_4b595f7707294a57b7c45e4a21634cf9",
            "max": 170498071,
            "min": 0,
            "orientation": "horizontal",
            "style": "IPY_MODEL_587c49e2d901447ba0eab337f7e13b32",
            "value": 170498071
          }
        },
        "ed5ae13896dc488e9115fe388d356ffb": {
          "model_module": "@jupyter-widgets/controls",
          "model_name": "HTMLModel",
          "model_module_version": "1.5.0",
          "state": {
            "_dom_classes": [],
            "_model_module": "@jupyter-widgets/controls",
            "_model_module_version": "1.5.0",
            "_model_name": "HTMLModel",
            "_view_count": null,
            "_view_module": "@jupyter-widgets/controls",
            "_view_module_version": "1.5.0",
            "_view_name": "HTMLView",
            "description": "",
            "description_tooltip": null,
            "layout": "IPY_MODEL_742387be0b754dbd9ae9683b697ce53a",
            "placeholder": "​",
            "style": "IPY_MODEL_cf99e58ec8ea4ade94a9464b15437473",
            "value": " 170499072/? [00:06&lt;00:00, 31113662.00it/s]"
          }
        },
        "ec663f710b8a45539e9d054c3a1aedb1": {
          "model_module": "@jupyter-widgets/base",
          "model_name": "LayoutModel",
          "model_module_version": "1.2.0",
          "state": {
            "_model_module": "@jupyter-widgets/base",
            "_model_module_version": "1.2.0",
            "_model_name": "LayoutModel",
            "_view_count": null,
            "_view_module": "@jupyter-widgets/base",
            "_view_module_version": "1.2.0",
            "_view_name": "LayoutView",
            "align_content": null,
            "align_items": null,
            "align_self": null,
            "border": null,
            "bottom": null,
            "display": null,
            "flex": null,
            "flex_flow": null,
            "grid_area": null,
            "grid_auto_columns": null,
            "grid_auto_flow": null,
            "grid_auto_rows": null,
            "grid_column": null,
            "grid_gap": null,
            "grid_row": null,
            "grid_template_areas": null,
            "grid_template_columns": null,
            "grid_template_rows": null,
            "height": null,
            "justify_content": null,
            "justify_items": null,
            "left": null,
            "margin": null,
            "max_height": null,
            "max_width": null,
            "min_height": null,
            "min_width": null,
            "object_fit": null,
            "object_position": null,
            "order": null,
            "overflow": null,
            "overflow_x": null,
            "overflow_y": null,
            "padding": null,
            "right": null,
            "top": null,
            "visibility": null,
            "width": null
          }
        },
        "7cabaa04a76542b6b1d5677317ee6505": {
          "model_module": "@jupyter-widgets/base",
          "model_name": "LayoutModel",
          "model_module_version": "1.2.0",
          "state": {
            "_model_module": "@jupyter-widgets/base",
            "_model_module_version": "1.2.0",
            "_model_name": "LayoutModel",
            "_view_count": null,
            "_view_module": "@jupyter-widgets/base",
            "_view_module_version": "1.2.0",
            "_view_name": "LayoutView",
            "align_content": null,
            "align_items": null,
            "align_self": null,
            "border": null,
            "bottom": null,
            "display": null,
            "flex": null,
            "flex_flow": null,
            "grid_area": null,
            "grid_auto_columns": null,
            "grid_auto_flow": null,
            "grid_auto_rows": null,
            "grid_column": null,
            "grid_gap": null,
            "grid_row": null,
            "grid_template_areas": null,
            "grid_template_columns": null,
            "grid_template_rows": null,
            "height": null,
            "justify_content": null,
            "justify_items": null,
            "left": null,
            "margin": null,
            "max_height": null,
            "max_width": null,
            "min_height": null,
            "min_width": null,
            "object_fit": null,
            "object_position": null,
            "order": null,
            "overflow": null,
            "overflow_x": null,
            "overflow_y": null,
            "padding": null,
            "right": null,
            "top": null,
            "visibility": null,
            "width": null
          }
        },
        "51e1093e4e854d4fa9947edd0c6189c1": {
          "model_module": "@jupyter-widgets/controls",
          "model_name": "DescriptionStyleModel",
          "model_module_version": "1.5.0",
          "state": {
            "_model_module": "@jupyter-widgets/controls",
            "_model_module_version": "1.5.0",
            "_model_name": "DescriptionStyleModel",
            "_view_count": null,
            "_view_module": "@jupyter-widgets/base",
            "_view_module_version": "1.2.0",
            "_view_name": "StyleView",
            "description_width": ""
          }
        },
        "4b595f7707294a57b7c45e4a21634cf9": {
          "model_module": "@jupyter-widgets/base",
          "model_name": "LayoutModel",
          "model_module_version": "1.2.0",
          "state": {
            "_model_module": "@jupyter-widgets/base",
            "_model_module_version": "1.2.0",
            "_model_name": "LayoutModel",
            "_view_count": null,
            "_view_module": "@jupyter-widgets/base",
            "_view_module_version": "1.2.0",
            "_view_name": "LayoutView",
            "align_content": null,
            "align_items": null,
            "align_self": null,
            "border": null,
            "bottom": null,
            "display": null,
            "flex": null,
            "flex_flow": null,
            "grid_area": null,
            "grid_auto_columns": null,
            "grid_auto_flow": null,
            "grid_auto_rows": null,
            "grid_column": null,
            "grid_gap": null,
            "grid_row": null,
            "grid_template_areas": null,
            "grid_template_columns": null,
            "grid_template_rows": null,
            "height": null,
            "justify_content": null,
            "justify_items": null,
            "left": null,
            "margin": null,
            "max_height": null,
            "max_width": null,
            "min_height": null,
            "min_width": null,
            "object_fit": null,
            "object_position": null,
            "order": null,
            "overflow": null,
            "overflow_x": null,
            "overflow_y": null,
            "padding": null,
            "right": null,
            "top": null,
            "visibility": null,
            "width": null
          }
        },
        "587c49e2d901447ba0eab337f7e13b32": {
          "model_module": "@jupyter-widgets/controls",
          "model_name": "ProgressStyleModel",
          "model_module_version": "1.5.0",
          "state": {
            "_model_module": "@jupyter-widgets/controls",
            "_model_module_version": "1.5.0",
            "_model_name": "ProgressStyleModel",
            "_view_count": null,
            "_view_module": "@jupyter-widgets/base",
            "_view_module_version": "1.2.0",
            "_view_name": "StyleView",
            "bar_color": null,
            "description_width": ""
          }
        },
        "742387be0b754dbd9ae9683b697ce53a": {
          "model_module": "@jupyter-widgets/base",
          "model_name": "LayoutModel",
          "model_module_version": "1.2.0",
          "state": {
            "_model_module": "@jupyter-widgets/base",
            "_model_module_version": "1.2.0",
            "_model_name": "LayoutModel",
            "_view_count": null,
            "_view_module": "@jupyter-widgets/base",
            "_view_module_version": "1.2.0",
            "_view_name": "LayoutView",
            "align_content": null,
            "align_items": null,
            "align_self": null,
            "border": null,
            "bottom": null,
            "display": null,
            "flex": null,
            "flex_flow": null,
            "grid_area": null,
            "grid_auto_columns": null,
            "grid_auto_flow": null,
            "grid_auto_rows": null,
            "grid_column": null,
            "grid_gap": null,
            "grid_row": null,
            "grid_template_areas": null,
            "grid_template_columns": null,
            "grid_template_rows": null,
            "height": null,
            "justify_content": null,
            "justify_items": null,
            "left": null,
            "margin": null,
            "max_height": null,
            "max_width": null,
            "min_height": null,
            "min_width": null,
            "object_fit": null,
            "object_position": null,
            "order": null,
            "overflow": null,
            "overflow_x": null,
            "overflow_y": null,
            "padding": null,
            "right": null,
            "top": null,
            "visibility": null,
            "width": null
          }
        },
        "cf99e58ec8ea4ade94a9464b15437473": {
          "model_module": "@jupyter-widgets/controls",
          "model_name": "DescriptionStyleModel",
          "model_module_version": "1.5.0",
          "state": {
            "_model_module": "@jupyter-widgets/controls",
            "_model_module_version": "1.5.0",
            "_model_name": "DescriptionStyleModel",
            "_view_count": null,
            "_view_module": "@jupyter-widgets/base",
            "_view_module_version": "1.2.0",
            "_view_name": "StyleView",
            "description_width": ""
          }
        }
      }
    }
  },
  "cells": [
    {
      "cell_type": "markdown",
      "source": [
        "# 1. Dataset 불러오기"
      ],
      "metadata": {
        "id": "gZOkR1pSmpfT"
      }
    },
    {
      "cell_type": "code",
      "execution_count": null,
      "metadata": {
        "id": "XfOumJUcjpWq"
      },
      "outputs": [],
      "source": [
        "import torch\n",
        "import torchvision\n",
        "import torchvision.transforms as transforms\n",
        "import matplotlib.pyplot as plt\n",
        "import numpy as np\n",
        "import torch.nn as nn\n",
        "import torch.optim as optim"
      ]
    },
    {
      "cell_type": "code",
      "source": [
        "transform = transforms.Compose(\n",
        "    [transforms.ToTensor(),\n",
        "     transforms.Normalize((0.5, 0.5, 0.5), (0.5, 0.5, 0.5))])\n",
        "\n",
        "batch_size = 4\n",
        "\n",
        "trainset = torchvision.datasets.CIFAR10(root='./data', train=True,\n",
        "                                        download=True, transform=transform)\n",
        "trainloader = torch.utils.data.DataLoader(trainset, batch_size=batch_size,\n",
        "                                          shuffle=True, num_workers=2)\n",
        "\n",
        "testset = torchvision.datasets.CIFAR10(root='./data', train=False,\n",
        "                                       download=True, transform=transform)\n",
        "testloader = torch.utils.data.DataLoader(testset, batch_size=batch_size,\n",
        "                                         shuffle=False, num_workers=2)\n",
        "\n",
        "classes = ('plane', 'car', 'bird', 'cat',\n",
        "           'deer', 'dog', 'frog', 'horse', 'ship', 'truck')"
      ],
      "metadata": {
        "id": "UbA8iEbLkDKo",
        "colab": {
          "base_uri": "https://localhost:8080/",
          "height": 104,
          "referenced_widgets": [
            "eec95ab349df45188cf364a91d49633e",
            "e7a8c7acd3364d7db1c9d1499c0b0f63",
            "1d2dc70d72c84db391d539c4e91a8c52",
            "1358c4f9eedf4418870767e653acc7e5",
            "6c0367a99f514644977eb4ac2e53e2fb",
            "cd4e3206eb164824953b34c03c13d8f5",
            "b2ded4dade024c81b7dc91a6d6e7c145",
            "52222e08f68e4b0d81e3d271141dea76",
            "aa9778b1300c4bab8783a7d70dca2218",
            "c0f80b0dfcf3495b87662cfa05f0e8d7",
            "fb69a707615745a78c3d4f973c5c2670"
          ]
        },
        "outputId": "66e75b0e-a508-4fb5-abde-ef4025759019"
      },
      "execution_count": null,
      "outputs": [
        {
          "output_type": "stream",
          "name": "stdout",
          "text": [
            "Downloading https://www.cs.toronto.edu/~kriz/cifar-10-python.tar.gz to ./data/cifar-10-python.tar.gz\n"
          ]
        },
        {
          "output_type": "display_data",
          "data": {
            "text/plain": [
              "  0%|          | 0/170498071 [00:00<?, ?it/s]"
            ],
            "application/vnd.jupyter.widget-view+json": {
              "version_major": 2,
              "version_minor": 0,
              "model_id": "eec95ab349df45188cf364a91d49633e"
            }
          },
          "metadata": {}
        },
        {
          "output_type": "stream",
          "name": "stdout",
          "text": [
            "Extracting ./data/cifar-10-python.tar.gz to ./data\n",
            "Files already downloaded and verified\n"
          ]
        }
      ]
    },
    {
      "cell_type": "markdown",
      "source": [
        "# 2. Dataset 확인하기"
      ],
      "metadata": {
        "id": "Vl-3_hagmz_P"
      }
    },
    {
      "cell_type": "code",
      "source": [
        "def imageshow(img):\n",
        "  img = img / 2 + 0.5\n",
        "  npimg = img.numpy()\n",
        "  plt.imshow(np.transpose(npimg, (1, 2, 0)))\n",
        "  plt.show()"
      ],
      "metadata": {
        "id": "E_5BlTVBkNPS"
      },
      "execution_count": null,
      "outputs": []
    },
    {
      "cell_type": "code",
      "source": [
        "dataiter = iter(trainloader)\n",
        "images, labels = dataiter.next()\n",
        "\n",
        "# show images\n",
        "imageshow(torchvision.utils.make_grid(images))\n",
        "# print labels\n",
        "print(' '.join(f'{classes[labels[j]]:5s}' for j in range(batch_size)))"
      ],
      "metadata": {
        "colab": {
          "base_uri": "https://localhost:8080/",
          "height": 156
        },
        "id": "haUsLNOqlVJV",
        "outputId": "e49ec6d6-a37d-4c3f-fe3a-2e985c1c10b4"
      },
      "execution_count": null,
      "outputs": [
        {
          "output_type": "display_data",
          "data": {
            "text/plain": [
              "<Figure size 432x288 with 1 Axes>"
            ],
            "image/png": "[encoded data removed]"
          },
          "metadata": {
            "needs_background": "light"
          }
        },
        {
          "output_type": "stream",
          "name": "stdout",
          "text": [
            "truck dog   car   car  \n"
          ]
        }
      ]
    },
    {
      "cell_type": "markdown",
      "source": [
        "# VGG16 model 생성\n",
        "layer 1`~`3: 16 * 16 * 64 <br>\n",
        "layer 4`~`6: 8 * 8 * 128 <br>\n",
        "layer 7`~`10: 4 * 4 * 256 <br>\n",
        "layer 11`~`14: 2 * 2 * 512 <br>\n"
      ],
      "metadata": {
        "id": "1JRxsULzjecc"
      }
    },
    {
      "cell_type": "code",
      "source": [
        "cfg = [64, 64, 'M', 128, 128, 'M', 256, 256, 256, 'M', 512, 512, 512, 'M', 512, 512, 512, 'M']"
      ],
      "metadata": {
        "id": "10pE1G9kCguC"
      },
      "execution_count": null,
      "outputs": []
    },
    {
      "cell_type": "code",
      "source": [
        "def make_layer(config):\n",
        "    layers = []\n",
        "    in_planes = 3\n",
        "    for value in config:\n",
        "        if value == 'M':\n",
        "            layers.append(nn.MaxPool2d(kernel_size=2, stride=2))\n",
        "        else:\n",
        "            layers.append(nn.Conv2d(in_planes, value, kernel_size=3, padding=1))\n",
        "            layers.append(nn.ReLU())\n",
        "            in_planes = value\n",
        "    return nn.Sequential(*layers)"
      ],
      "metadata": {
        "id": "-59j0hUUL7B1"
      },
      "execution_count": null,
      "outputs": []
    },
    {
      "cell_type": "code",
      "source": [
        "class VGG(nn.Module):\n",
        "    def __init__(self, config):\n",
        "        super(VGG, self).__init__()\n",
        "        self.features = make_layer(config)\n",
        "        \n",
        "        self.classifier = nn.Sequential(\n",
        "            nn.Dropout(0.5),\n",
        "            nn.Linear(512, 512),\n",
        "            nn.ReLU(True),\n",
        "            nn.Dropout(0.5),\n",
        "            nn.Linear(512, 512),\n",
        "            nn.ReLU(True),\n",
        "            nn.Linear(512, 10)  \n",
        "        ) \n",
        "        \n",
        "    def forward(self, x):\n",
        "        out = self.features(x)\n",
        "        out = torch.flatten(out,1)\n",
        "        out = self.classifier(out)\n",
        "        return out"
      ],
      "metadata": {
        "id": "0wONp6LXL-4c"
      },
      "execution_count": null,
      "outputs": []
    },
    {
      "cell_type": "code",
      "source": [
        "model = VGG(cfg)"
      ],
      "metadata": {
        "id": "-XMrFYArMNT9"
      },
      "execution_count": null,
      "outputs": []
    },
    {
      "cell_type": "code",
      "source": [
        "def init_weights(m):\n",
        "    if isinstance(m, nn.Linear):\n",
        "        torch.nn.init.xavier_uniform(m.weight)\n",
        "    if isinstance(m, nn.Conv2d):\n",
        "        torch.nn.init.kaiming_uniform(m.weight)\n",
        "\n",
        "model.apply(init_weights)"
      ],
      "metadata": {
        "colab": {
          "base_uri": "https://localhost:8080/"
        },
        "id": "f23HUSzPMQ_1",
        "outputId": "9ef05330-a4e3-4688-d75c-480da649f6f6"
      },
      "execution_count": null,
      "outputs": [
        {
          "output_type": "stream",
          "name": "stderr",
          "text": [
            "/usr/local/lib/python3.7/dist-packages/ipykernel_launcher.py:5: UserWarning: nn.init.kaiming_uniform is now deprecated in favor of nn.init.kaiming_uniform_.\n",
            "  \"\"\"\n",
            "/usr/local/lib/python3.7/dist-packages/ipykernel_launcher.py:3: UserWarning: nn.init.xavier_uniform is now deprecated in favor of nn.init.xavier_uniform_.\n",
            "  This is separate from the ipykernel package so we can avoid doing imports until\n"
          ]
        },
        {
          "output_type": "execute_result",
          "data": {
            "text/plain": [
              "VGG(\n",
              "  (features): Sequential(\n",
              "    (0): Conv2d(3, 64, kernel_size=(3, 3), stride=(1, 1), padding=(1, 1))\n",
              "    (1): ReLU()\n",
              "    (2): Conv2d(64, 64, kernel_size=(3, 3), stride=(1, 1), padding=(1, 1))\n",
              "    (3): ReLU()\n",
              "    (4): MaxPool2d(kernel_size=2, stride=2, padding=0, dilation=1, ceil_mode=False)\n",
              "    (5): Conv2d(64, 128, kernel_size=(3, 3), stride=(1, 1), padding=(1, 1))\n",
              "    (6): ReLU()\n",
              "    (7): Conv2d(128, 128, kernel_size=(3, 3), stride=(1, 1), padding=(1, 1))\n",
              "    (8): ReLU()\n",
              "    (9): MaxPool2d(kernel_size=2, stride=2, padding=0, dilation=1, ceil_mode=False)\n",
              "    (10): Conv2d(128, 256, kernel_size=(3, 3), stride=(1, 1), padding=(1, 1))\n",
              "    (11): ReLU()\n",
              "    (12): Conv2d(256, 256, kernel_size=(3, 3), stride=(1, 1), padding=(1, 1))\n",
              "    (13): ReLU()\n",
              "    (14): Conv2d(256, 256, kernel_size=(3, 3), stride=(1, 1), padding=(1, 1))\n",
              "    (15): ReLU()\n",
              "    (16): MaxPool2d(kernel_size=2, stride=2, padding=0, dilation=1, ceil_mode=False)\n",
              "    (17): Conv2d(256, 512, kernel_size=(3, 3), stride=(1, 1), padding=(1, 1))\n",
              "    (18): ReLU()\n",
              "    (19): Conv2d(512, 512, kernel_size=(3, 3), stride=(1, 1), padding=(1, 1))\n",
              "    (20): ReLU()\n",
              "    (21): Conv2d(512, 512, kernel_size=(3, 3), stride=(1, 1), padding=(1, 1))\n",
              "    (22): ReLU()\n",
              "    (23): MaxPool2d(kernel_size=2, stride=2, padding=0, dilation=1, ceil_mode=False)\n",
              "    (24): Conv2d(512, 512, kernel_size=(3, 3), stride=(1, 1), padding=(1, 1))\n",
              "    (25): ReLU()\n",
              "    (26): Conv2d(512, 512, kernel_size=(3, 3), stride=(1, 1), padding=(1, 1))\n",
              "    (27): ReLU()\n",
              "    (28): Conv2d(512, 512, kernel_size=(3, 3), stride=(1, 1), padding=(1, 1))\n",
              "    (29): ReLU()\n",
              "    (30): MaxPool2d(kernel_size=2, stride=2, padding=0, dilation=1, ceil_mode=False)\n",
              "  )\n",
              "  (classifier): Sequential(\n",
              "    (0): Dropout(p=0.5, inplace=False)\n",
              "    (1): Linear(in_features=512, out_features=512, bias=True)\n",
              "    (2): ReLU(inplace=True)\n",
              "    (3): Dropout(p=0.5, inplace=False)\n",
              "    (4): Linear(in_features=512, out_features=512, bias=True)\n",
              "    (5): ReLU(inplace=True)\n",
              "    (6): Linear(in_features=512, out_features=10, bias=True)\n",
              "  )\n",
              ")"
            ]
          },
          "metadata": {},
          "execution_count": 12
        }
      ]
    },
    {
      "cell_type": "code",
      "source": [
        "learning_rate = 0.05\n",
        "num_epoch = 10\n",
        "model_name = 'model.pth'\n",
        "\n",
        "loss_fn = nn.CrossEntropyLoss()\n",
        "optimizer = optim.SGD(model.parameters(), lr=learning_rate, momentum=0.9, weight_decay=0.0001)\n",
        "\n",
        "train_loss = 0\n",
        "valid_loss = 0\n",
        "correct = 0\n",
        "total_cnt = 0\n",
        "best_acc = 0"
      ],
      "metadata": {
        "id": "G2-9jhvqMiPJ"
      },
      "execution_count": null,
      "outputs": []
    },
    {
      "cell_type": "code",
      "source": [
        "def lr_scheduler(optimizer, epoch):\n",
        "    lr = learning_rate\n",
        "    if epoch >= 30:\n",
        "        lr /= 2\n",
        "    if epoch >= 60:\n",
        "        lr /= 2\n",
        "    for param_group in optimizer.param_groups:\n",
        "        param_group['lr'] = lr"
      ],
      "metadata": {
        "id": "qP7IbB7LM9UZ"
      },
      "execution_count": null,
      "outputs": []
    },
    {
      "cell_type": "code",
      "source": [
        "for epoch in range(num_epoch):\n",
        "    print(f\"====== { epoch+1} epoch of { num_epoch } ======\")\n",
        "    model.train()\n",
        "    lr_scheduler(optimizer, epoch)\n",
        "    train_loss = 0\n",
        "    valid_loss = 0\n",
        "    correct = 0\n",
        "    total_cnt = 0\n",
        "    # Train Phase\n",
        "    for step, batch in enumerate(trainloader):\n",
        "        #  input and target\n",
        "        batch[0], batch[1] = batch[0], batch[1]\n",
        "        optimizer.zero_grad()\n",
        "        \n",
        "        logits = model(batch[0])\n",
        "        loss = loss_fn(logits, batch[1])\n",
        "        loss.backward()\n",
        "        \n",
        "        optimizer.step()\n",
        "        train_loss += loss.item()\n",
        "        _, predict = logits.max(1)\n",
        "        \n",
        "        total_cnt += batch[1].size(0)\n",
        "        correct +=  predict.eq(batch[1]).sum().item()\n",
        "        \n",
        "        if step % 100 == 0 and step != 0:\n",
        "            print(f\"\\n====== { step } Step of { len(trainloader) } ======\")\n",
        "            print(f\"Train Acc : { correct / total_cnt }\")\n",
        "            print(f\"Train Loss : { loss.item() / batch[1].size(0) }\")\n",
        "            \n",
        "    correct = 0\n",
        "    total_cnt = 0"
      ],
      "metadata": {
        "colab": {
          "base_uri": "https://localhost:8080/",
          "height": 1000
        },
        "id": "kxQvkg7hM1MP",
        "outputId": "b225ad81-9795-40a3-df81-0f8e1c162bfb"
      },
      "execution_count": null,
      "outputs": [
        {
          "output_type": "stream",
          "name": "stdout",
          "text": [
            "====== 1 epoch of 10 ======\n",
            "\n",
            "====== 100 Step of 12500 ======\n",
            "Train Acc : 0.07425742574257425\n",
            "Train Loss : nan\n",
            "\n",
            "====== 200 Step of 12500 ======\n",
            "Train Acc : 0.09701492537313433\n",
            "Train Loss : nan\n",
            "\n",
            "====== 300 Step of 12500 ======\n",
            "Train Acc : 0.09966777408637874\n",
            "Train Loss : nan\n",
            "\n",
            "====== 400 Step of 12500 ======\n",
            "Train Acc : 0.10162094763092269\n",
            "Train Loss : nan\n",
            "\n",
            "====== 500 Step of 12500 ======\n",
            "Train Acc : 0.10179640718562874\n",
            "Train Loss : nan\n",
            "\n",
            "====== 600 Step of 12500 ======\n",
            "Train Acc : 0.09858569051580698\n",
            "Train Loss : nan\n",
            "\n",
            "====== 700 Step of 12500 ======\n",
            "Train Acc : 0.09950071326676177\n",
            "Train Loss : nan\n",
            "\n",
            "====== 800 Step of 12500 ======\n",
            "Train Acc : 0.10268414481897628\n",
            "Train Loss : nan\n",
            "\n",
            "====== 900 Step of 12500 ======\n",
            "Train Acc : 0.103496115427303\n",
            "Train Loss : nan\n",
            "\n",
            "====== 1000 Step of 12500 ======\n",
            "Train Acc : 0.1038961038961039\n",
            "Train Loss : nan\n",
            "\n",
            "====== 1100 Step of 12500 ======\n",
            "Train Acc : 0.1044504995458674\n",
            "Train Loss : nan\n",
            "\n",
            "====== 1200 Step of 12500 ======\n",
            "Train Acc : 0.10699417152373022\n",
            "Train Loss : nan\n",
            "\n",
            "====== 1300 Step of 12500 ======\n",
            "Train Acc : 0.1083781706379708\n",
            "Train Loss : nan\n",
            "\n",
            "====== 1400 Step of 12500 ======\n",
            "Train Acc : 0.10581727337615988\n",
            "Train Loss : nan\n",
            "\n",
            "====== 1500 Step of 12500 ======\n",
            "Train Acc : 0.10592938041305797\n",
            "Train Loss : nan\n",
            "\n",
            "====== 1600 Step of 12500 ======\n",
            "Train Acc : 0.10462211118051218\n",
            "Train Loss : nan\n",
            "\n",
            "====== 1700 Step of 12500 ======\n",
            "Train Acc : 0.10493827160493827\n",
            "Train Loss : nan\n",
            "\n",
            "====== 1800 Step of 12500 ======\n",
            "Train Acc : 0.10410882842865075\n",
            "Train Loss : nan\n",
            "\n",
            "====== 1900 Step of 12500 ======\n",
            "Train Acc : 0.10362966859547607\n",
            "Train Loss : nan\n",
            "\n",
            "====== 2000 Step of 12500 ======\n",
            "Train Acc : 0.10457271364317841\n",
            "Train Loss : nan\n",
            "\n",
            "====== 2100 Step of 12500 ======\n",
            "Train Acc : 0.10423607805806759\n",
            "Train Loss : nan\n",
            "\n",
            "====== 2200 Step of 12500 ======\n",
            "Train Acc : 0.1040436165379373\n",
            "Train Loss : nan\n",
            "\n",
            "====== 2300 Step of 12500 ======\n",
            "Train Acc : 0.10310734463276836\n",
            "Train Loss : nan\n",
            "\n",
            "====== 2400 Step of 12500 ======\n",
            "Train Acc : 0.10183256976259891\n",
            "Train Loss : nan\n",
            "\n",
            "====== 2500 Step of 12500 ======\n",
            "Train Acc : 0.1017592962814874\n",
            "Train Loss : nan\n",
            "\n",
            "====== 2600 Step of 12500 ======\n",
            "Train Acc : 0.10207612456747404\n",
            "Train Loss : nan\n",
            "\n",
            "====== 2700 Step of 12500 ======\n",
            "Train Acc : 0.10227693446871529\n",
            "Train Loss : nan\n",
            "\n",
            "====== 2800 Step of 12500 ======\n",
            "Train Acc : 0.10210639057479472\n",
            "Train Loss : nan\n",
            "\n",
            "====== 2900 Step of 12500 ======\n",
            "Train Acc : 0.10108583247156153\n",
            "Train Loss : nan\n",
            "\n",
            "====== 3000 Step of 12500 ======\n",
            "Train Acc : 0.1002165944685105\n",
            "Train Loss : nan\n",
            "\n",
            "====== 3100 Step of 12500 ======\n",
            "Train Acc : 0.10029022895840052\n",
            "Train Loss : nan\n",
            "\n",
            "====== 3200 Step of 12500 ======\n",
            "Train Acc : 0.10028116213683223\n",
            "Train Loss : nan\n",
            "\n",
            "====== 3300 Step of 12500 ======\n",
            "Train Acc : 0.10012117540139352\n",
            "Train Loss : nan\n",
            "\n",
            "====== 3400 Step of 12500 ======\n",
            "Train Acc : 0.09945604234048809\n",
            "Train Loss : nan\n",
            "\n",
            "====== 3500 Step of 12500 ======\n",
            "Train Acc : 0.0990431305341331\n",
            "Train Loss : nan\n",
            "\n",
            "====== 3600 Step of 12500 ======\n",
            "Train Acc : 0.09948625381838379\n",
            "Train Loss : nan\n",
            "\n",
            "====== 3700 Step of 12500 ======\n",
            "Train Acc : 0.09956768440961902\n",
            "Train Loss : nan\n",
            "\n",
            "====== 3800 Step of 12500 ======\n",
            "Train Acc : 0.09971060247303341\n",
            "Train Loss : nan\n",
            "\n",
            "====== 3900 Step of 12500 ======\n",
            "Train Acc : 0.0997821071520123\n",
            "Train Loss : nan\n",
            "\n",
            "====== 4000 Step of 12500 ======\n",
            "Train Acc : 0.10022494376405898\n",
            "Train Loss : nan\n",
            "\n",
            "====== 4100 Step of 12500 ======\n",
            "Train Acc : 0.10162155571811753\n",
            "Train Loss : nan\n"
          ]
        },
        {
          "output_type": "error",
          "ename": "KeyboardInterrupt",
          "evalue": "ignored",
          "traceback": [
            "\u001b[0;31m---------------------------------------------------------------------------\u001b[0m",
            "\u001b[0;31mKeyboardInterrupt\u001b[0m                         Traceback (most recent call last)",
            "\u001b[0;32m<ipython-input-15-d94562d4afb4>\u001b[0m in \u001b[0;36m<module>\u001b[0;34m()\u001b[0m\n\u001b[1;32m     13\u001b[0m         \u001b[0moptimizer\u001b[0m\u001b[0;34m.\u001b[0m\u001b[0mzero_grad\u001b[0m\u001b[0;34m(\u001b[0m\u001b[0;34m)\u001b[0m\u001b[0;34m\u001b[0m\u001b[0;34m\u001b[0m\u001b[0m\n\u001b[1;32m     14\u001b[0m \u001b[0;34m\u001b[0m\u001b[0m\n\u001b[0;32m---> 15\u001b[0;31m         \u001b[0mlogits\u001b[0m \u001b[0;34m=\u001b[0m \u001b[0mmodel\u001b[0m\u001b[0;34m(\u001b[0m\u001b[0mbatch\u001b[0m\u001b[0;34m[\u001b[0m\u001b[0;36m0\u001b[0m\u001b[0;34m]\u001b[0m\u001b[0;34m)\u001b[0m\u001b[0;34m\u001b[0m\u001b[0;34m\u001b[0m\u001b[0m\n\u001b[0m\u001b[1;32m     16\u001b[0m         \u001b[0mloss\u001b[0m \u001b[0;34m=\u001b[0m \u001b[0mloss_fn\u001b[0m\u001b[0;34m(\u001b[0m\u001b[0mlogits\u001b[0m\u001b[0;34m,\u001b[0m \u001b[0mbatch\u001b[0m\u001b[0;34m[\u001b[0m\u001b[0;36m1\u001b[0m\u001b[0;34m]\u001b[0m\u001b[0;34m)\u001b[0m\u001b[0;34m\u001b[0m\u001b[0;34m\u001b[0m\u001b[0m\n\u001b[1;32m     17\u001b[0m         \u001b[0mloss\u001b[0m\u001b[0;34m.\u001b[0m\u001b[0mbackward\u001b[0m\u001b[0;34m(\u001b[0m\u001b[0;34m)\u001b[0m\u001b[0;34m\u001b[0m\u001b[0;34m\u001b[0m\u001b[0m\n",
            "\u001b[0;32m/usr/local/lib/python3.7/dist-packages/torch/nn/modules/module.py\u001b[0m in \u001b[0;36m_call_impl\u001b[0;34m(self, *input, **kwargs)\u001b[0m\n\u001b[1;32m   1108\u001b[0m         if not (self._backward_hooks or self._forward_hooks or self._forward_pre_hooks or _global_backward_hooks\n\u001b[1;32m   1109\u001b[0m                 or _global_forward_hooks or _global_forward_pre_hooks):\n\u001b[0;32m-> 1110\u001b[0;31m             \u001b[0;32mreturn\u001b[0m \u001b[0mforward_call\u001b[0m\u001b[0;34m(\u001b[0m\u001b[0;34m*\u001b[0m\u001b[0minput\u001b[0m\u001b[0;34m,\u001b[0m \u001b[0;34m**\u001b[0m\u001b[0mkwargs\u001b[0m\u001b[0;34m)\u001b[0m\u001b[0;34m\u001b[0m\u001b[0;34m\u001b[0m\u001b[0m\n\u001b[0m\u001b[1;32m   1111\u001b[0m         \u001b[0;31m# Do not call functions when jit is used\u001b[0m\u001b[0;34m\u001b[0m\u001b[0;34m\u001b[0m\u001b[0;34m\u001b[0m\u001b[0m\n\u001b[1;32m   1112\u001b[0m         \u001b[0mfull_backward_hooks\u001b[0m\u001b[0;34m,\u001b[0m \u001b[0mnon_full_backward_hooks\u001b[0m \u001b[0;34m=\u001b[0m \u001b[0;34m[\u001b[0m\u001b[0;34m]\u001b[0m\u001b[0;34m,\u001b[0m \u001b[0;34m[\u001b[0m\u001b[0;34m]\u001b[0m\u001b[0;34m\u001b[0m\u001b[0;34m\u001b[0m\u001b[0m\n",
            "\u001b[0;32m<ipython-input-10-ec1e7caa26a4>\u001b[0m in \u001b[0;36mforward\u001b[0;34m(self, x)\u001b[0m\n\u001b[1;32m     15\u001b[0m \u001b[0;34m\u001b[0m\u001b[0m\n\u001b[1;32m     16\u001b[0m     \u001b[0;32mdef\u001b[0m \u001b[0mforward\u001b[0m\u001b[0;34m(\u001b[0m\u001b[0mself\u001b[0m\u001b[0;34m,\u001b[0m \u001b[0mx\u001b[0m\u001b[0;34m)\u001b[0m\u001b[0;34m:\u001b[0m\u001b[0;34m\u001b[0m\u001b[0;34m\u001b[0m\u001b[0m\n\u001b[0;32m---> 17\u001b[0;31m         \u001b[0mout\u001b[0m \u001b[0;34m=\u001b[0m \u001b[0mself\u001b[0m\u001b[0;34m.\u001b[0m\u001b[0mfeatures\u001b[0m\u001b[0;34m(\u001b[0m\u001b[0mx\u001b[0m\u001b[0;34m)\u001b[0m\u001b[0;34m\u001b[0m\u001b[0;34m\u001b[0m\u001b[0m\n\u001b[0m\u001b[1;32m     18\u001b[0m         \u001b[0mout\u001b[0m \u001b[0;34m=\u001b[0m \u001b[0mtorch\u001b[0m\u001b[0;34m.\u001b[0m\u001b[0mflatten\u001b[0m\u001b[0;34m(\u001b[0m\u001b[0mout\u001b[0m\u001b[0;34m,\u001b[0m\u001b[0;36m1\u001b[0m\u001b[0;34m)\u001b[0m\u001b[0;34m\u001b[0m\u001b[0;34m\u001b[0m\u001b[0m\n\u001b[1;32m     19\u001b[0m         \u001b[0mout\u001b[0m \u001b[0;34m=\u001b[0m \u001b[0mself\u001b[0m\u001b[0;34m.\u001b[0m\u001b[0mclassifier\u001b[0m\u001b[0;34m(\u001b[0m\u001b[0mout\u001b[0m\u001b[0;34m)\u001b[0m\u001b[0;34m\u001b[0m\u001b[0;34m\u001b[0m\u001b[0m\n",
            "\u001b[0;32m/usr/local/lib/python3.7/dist-packages/torch/nn/modules/module.py\u001b[0m in \u001b[0;36m_call_impl\u001b[0;34m(self, *input, **kwargs)\u001b[0m\n\u001b[1;32m   1108\u001b[0m         if not (self._backward_hooks or self._forward_hooks or self._forward_pre_hooks or _global_backward_hooks\n\u001b[1;32m   1109\u001b[0m                 or _global_forward_hooks or _global_forward_pre_hooks):\n\u001b[0;32m-> 1110\u001b[0;31m             \u001b[0;32mreturn\u001b[0m \u001b[0mforward_call\u001b[0m\u001b[0;34m(\u001b[0m\u001b[0;34m*\u001b[0m\u001b[0minput\u001b[0m\u001b[0;34m,\u001b[0m \u001b[0;34m**\u001b[0m\u001b[0mkwargs\u001b[0m\u001b[0;34m)\u001b[0m\u001b[0;34m\u001b[0m\u001b[0;34m\u001b[0m\u001b[0m\n\u001b[0m\u001b[1;32m   1111\u001b[0m         \u001b[0;31m# Do not call functions when jit is used\u001b[0m\u001b[0;34m\u001b[0m\u001b[0;34m\u001b[0m\u001b[0;34m\u001b[0m\u001b[0m\n\u001b[1;32m   1112\u001b[0m         \u001b[0mfull_backward_hooks\u001b[0m\u001b[0;34m,\u001b[0m \u001b[0mnon_full_backward_hooks\u001b[0m \u001b[0;34m=\u001b[0m \u001b[0;34m[\u001b[0m\u001b[0;34m]\u001b[0m\u001b[0;34m,\u001b[0m \u001b[0;34m[\u001b[0m\u001b[0;34m]\u001b[0m\u001b[0;34m\u001b[0m\u001b[0;34m\u001b[0m\u001b[0m\n",
            "\u001b[0;32m/usr/local/lib/python3.7/dist-packages/torch/nn/modules/container.py\u001b[0m in \u001b[0;36mforward\u001b[0;34m(self, input)\u001b[0m\n\u001b[1;32m    139\u001b[0m     \u001b[0;32mdef\u001b[0m \u001b[0mforward\u001b[0m\u001b[0;34m(\u001b[0m\u001b[0mself\u001b[0m\u001b[0;34m,\u001b[0m \u001b[0minput\u001b[0m\u001b[0;34m)\u001b[0m\u001b[0;34m:\u001b[0m\u001b[0;34m\u001b[0m\u001b[0;34m\u001b[0m\u001b[0m\n\u001b[1;32m    140\u001b[0m         \u001b[0;32mfor\u001b[0m \u001b[0mmodule\u001b[0m \u001b[0;32min\u001b[0m \u001b[0mself\u001b[0m\u001b[0;34m:\u001b[0m\u001b[0;34m\u001b[0m\u001b[0;34m\u001b[0m\u001b[0m\n\u001b[0;32m--> 141\u001b[0;31m             \u001b[0minput\u001b[0m \u001b[0;34m=\u001b[0m \u001b[0mmodule\u001b[0m\u001b[0;34m(\u001b[0m\u001b[0minput\u001b[0m\u001b[0;34m)\u001b[0m\u001b[0;34m\u001b[0m\u001b[0;34m\u001b[0m\u001b[0m\n\u001b[0m\u001b[1;32m    142\u001b[0m         \u001b[0;32mreturn\u001b[0m \u001b[0minput\u001b[0m\u001b[0;34m\u001b[0m\u001b[0;34m\u001b[0m\u001b[0m\n\u001b[1;32m    143\u001b[0m \u001b[0;34m\u001b[0m\u001b[0m\n",
            "\u001b[0;32m/usr/local/lib/python3.7/dist-packages/torch/nn/modules/module.py\u001b[0m in \u001b[0;36m_call_impl\u001b[0;34m(self, *input, **kwargs)\u001b[0m\n\u001b[1;32m   1108\u001b[0m         if not (self._backward_hooks or self._forward_hooks or self._forward_pre_hooks or _global_backward_hooks\n\u001b[1;32m   1109\u001b[0m                 or _global_forward_hooks or _global_forward_pre_hooks):\n\u001b[0;32m-> 1110\u001b[0;31m             \u001b[0;32mreturn\u001b[0m \u001b[0mforward_call\u001b[0m\u001b[0;34m(\u001b[0m\u001b[0;34m*\u001b[0m\u001b[0minput\u001b[0m\u001b[0;34m,\u001b[0m \u001b[0;34m**\u001b[0m\u001b[0mkwargs\u001b[0m\u001b[0;34m)\u001b[0m\u001b[0;34m\u001b[0m\u001b[0;34m\u001b[0m\u001b[0m\n\u001b[0m\u001b[1;32m   1111\u001b[0m         \u001b[0;31m# Do not call functions when jit is used\u001b[0m\u001b[0;34m\u001b[0m\u001b[0;34m\u001b[0m\u001b[0;34m\u001b[0m\u001b[0m\n\u001b[1;32m   1112\u001b[0m         \u001b[0mfull_backward_hooks\u001b[0m\u001b[0;34m,\u001b[0m \u001b[0mnon_full_backward_hooks\u001b[0m \u001b[0;34m=\u001b[0m \u001b[0;34m[\u001b[0m\u001b[0;34m]\u001b[0m\u001b[0;34m,\u001b[0m \u001b[0;34m[\u001b[0m\u001b[0;34m]\u001b[0m\u001b[0;34m\u001b[0m\u001b[0;34m\u001b[0m\u001b[0m\n",
            "\u001b[0;32m/usr/local/lib/python3.7/dist-packages/torch/nn/modules/conv.py\u001b[0m in \u001b[0;36mforward\u001b[0;34m(self, input)\u001b[0m\n\u001b[1;32m    445\u001b[0m \u001b[0;34m\u001b[0m\u001b[0m\n\u001b[1;32m    446\u001b[0m     \u001b[0;32mdef\u001b[0m \u001b[0mforward\u001b[0m\u001b[0;34m(\u001b[0m\u001b[0mself\u001b[0m\u001b[0;34m,\u001b[0m \u001b[0minput\u001b[0m\u001b[0;34m:\u001b[0m \u001b[0mTensor\u001b[0m\u001b[0;34m)\u001b[0m \u001b[0;34m->\u001b[0m \u001b[0mTensor\u001b[0m\u001b[0;34m:\u001b[0m\u001b[0;34m\u001b[0m\u001b[0;34m\u001b[0m\u001b[0m\n\u001b[0;32m--> 447\u001b[0;31m         \u001b[0;32mreturn\u001b[0m \u001b[0mself\u001b[0m\u001b[0;34m.\u001b[0m\u001b[0m_conv_forward\u001b[0m\u001b[0;34m(\u001b[0m\u001b[0minput\u001b[0m\u001b[0;34m,\u001b[0m \u001b[0mself\u001b[0m\u001b[0;34m.\u001b[0m\u001b[0mweight\u001b[0m\u001b[0;34m,\u001b[0m \u001b[0mself\u001b[0m\u001b[0;34m.\u001b[0m\u001b[0mbias\u001b[0m\u001b[0;34m)\u001b[0m\u001b[0;34m\u001b[0m\u001b[0;34m\u001b[0m\u001b[0m\n\u001b[0m\u001b[1;32m    448\u001b[0m \u001b[0;34m\u001b[0m\u001b[0m\n\u001b[1;32m    449\u001b[0m \u001b[0;32mclass\u001b[0m \u001b[0mConv3d\u001b[0m\u001b[0;34m(\u001b[0m\u001b[0m_ConvNd\u001b[0m\u001b[0;34m)\u001b[0m\u001b[0;34m:\u001b[0m\u001b[0;34m\u001b[0m\u001b[0;34m\u001b[0m\u001b[0m\n",
            "\u001b[0;32m/usr/local/lib/python3.7/dist-packages/torch/nn/modules/conv.py\u001b[0m in \u001b[0;36m_conv_forward\u001b[0;34m(self, input, weight, bias)\u001b[0m\n\u001b[1;32m    442\u001b[0m                             _pair(0), self.dilation, self.groups)\n\u001b[1;32m    443\u001b[0m         return F.conv2d(input, weight, bias, self.stride,\n\u001b[0;32m--> 444\u001b[0;31m                         self.padding, self.dilation, self.groups)\n\u001b[0m\u001b[1;32m    445\u001b[0m \u001b[0;34m\u001b[0m\u001b[0m\n\u001b[1;32m    446\u001b[0m     \u001b[0;32mdef\u001b[0m \u001b[0mforward\u001b[0m\u001b[0;34m(\u001b[0m\u001b[0mself\u001b[0m\u001b[0;34m,\u001b[0m \u001b[0minput\u001b[0m\u001b[0;34m:\u001b[0m \u001b[0mTensor\u001b[0m\u001b[0;34m)\u001b[0m \u001b[0;34m->\u001b[0m \u001b[0mTensor\u001b[0m\u001b[0;34m:\u001b[0m\u001b[0;34m\u001b[0m\u001b[0;34m\u001b[0m\u001b[0m\n",
            "\u001b[0;31mKeyboardInterrupt\u001b[0m: "
          ]
        }
      ]
    },
    {
      "cell_type": "code",
      "source": [
        "with torch.no_grad():\n",
        "        model.eval()\n",
        "        for step, batch in enumerate(testloader):\n",
        "            # input and target\n",
        "            batch[0], batch[1] = batch[0], batch[1]\n",
        "            total_cnt += batch[1].size(0)\n",
        "            logits = model(batch[0])\n",
        "            valid_loss += loss_fn(logits, batch[1])\n",
        "            _, predict = logits.max(1)\n",
        "            correct += predict.eq(batch[1]).sum().item()\n",
        "        valid_acc = correct / total_cnt\n",
        "        print(f\"\\nValid Acc : { valid_acc }\")    \n",
        "        print(f\"Valid Loss : { valid_loss / total_cnt }\")\n",
        "\n",
        "        if(valid_acc > best_acc):\n",
        "            best_acc = valid_acc\n",
        "            torch.save(model, model_name)\n",
        "            print(\"Model Saved!\")"
      ],
      "metadata": {
        "id": "InI0Z6Tqdl_Y"
      },
      "execution_count": null,
      "outputs": []
    },
    {
      "cell_type": "markdown",
      "source": [
        ""
      ],
      "metadata": {
        "id": "v_VOeSyMBoN8"
      }
    },
    {
      "cell_type": "markdown",
      "source": [
        "# ResNet18"
      ],
      "metadata": {
        "id": "9mQEtvITKD56"
      }
    },
    {
      "cell_type": "code",
      "source": [
        "import torch\n",
        "import torchvision\n",
        "import torchvision.transforms as transforms\n",
        "import torch.nn as nn\n",
        "import torch.nn.functional as F\n",
        "import torch.backends.cudnn as cudnn\n",
        "import torch.optim as optim\n",
        "import os\n",
        "#from torch.utils import random_split # train data와 validation data 나누기 위해\n",
        "\n",
        "train_transform = transforms.Compose(\n",
        "    [ transforms.RandomCrop(32, padding=4),\n",
        "      transforms.RandomHorizontalFlip(),\n",
        "      transforms.ToTensor(), # C*H*W\n",
        "      transforms.Normalize((0.5, 0.5, 0.5), (0.5, 0.5, 0.5))]) # 세 채널에 대한 평균과 표준편차 [-1, 1]\n",
        "\n",
        "test_transform = transforms.Compose([\n",
        "    transforms.ToTensor(),\n",
        "])\n",
        "\n",
        "train_dataset = torchvision.datasets.CIFAR10(root='./data', train=True, download=True, transform=train_transform)\n",
        "test_dataset = torchvision.datasets.CIFAR10(root='./data', train=False, download=True, transform=test_transform)\n",
        "\n",
        "val_ratio = 0.2\n",
        "# train_dataset, val_dataset = random_split(dataset, [int((1-val_ratio) * len(dataset)), int(val_ratio * len(dataset))] #validation data\n",
        "\n",
        "batch_size = 32\n",
        "\n",
        "train_loader = torch.utils.data.DataLoader(train_dataset, batch_size=128, shuffle=True, num_workers=2) #pin_memory=True\n",
        "test_loader = torch.utils.data.DataLoader(test_dataset, batch_size=100, shuffle=False, num_workers=2) #pin_memory=True\n",
        "#val_loader = torch.utils.data.DataLoader(val_dataset, batch_size=128, shuffle=True, num_workers=2) #pin_memory=True\n",
        "\n",
        "classes = ('plane', 'car', 'bird', 'cat', 'deer', 'dog', 'frog', 'horse', 'ship', 'truck')"
      ],
      "metadata": {
        "id": "7K5wYcyZKDVL",
        "colab": {
          "base_uri": "https://localhost:8080/",
          "height": 104,
          "referenced_widgets": [
            "18d24945f0e742c19c1d2ef585144b81",
            "f38df665491e4dc2a9fbc3698ca177d6",
            "ecf3e39f84984c68a121a45e087e27df",
            "ed5ae13896dc488e9115fe388d356ffb",
            "ec663f710b8a45539e9d054c3a1aedb1",
            "7cabaa04a76542b6b1d5677317ee6505",
            "51e1093e4e854d4fa9947edd0c6189c1",
            "4b595f7707294a57b7c45e4a21634cf9",
            "587c49e2d901447ba0eab337f7e13b32",
            "742387be0b754dbd9ae9683b697ce53a",
            "cf99e58ec8ea4ade94a9464b15437473"
          ]
        },
        "outputId": "7e5e8c21-0a48-4de7-81b1-b1fac044a38b"
      },
      "execution_count": null,
      "outputs": [
        {
          "output_type": "stream",
          "name": "stdout",
          "text": [
            "Downloading https://www.cs.toronto.edu/~kriz/cifar-10-python.tar.gz to ./data/cifar-10-python.tar.gz\n"
          ]
        },
        {
          "output_type": "display_data",
          "data": {
            "text/plain": [
              "  0%|          | 0/170498071 [00:00<?, ?it/s]"
            ],
            "application/vnd.jupyter.widget-view+json": {
              "version_major": 2,
              "version_minor": 0,
              "model_id": "18d24945f0e742c19c1d2ef585144b81"
            }
          },
          "metadata": {}
        },
        {
          "output_type": "stream",
          "name": "stdout",
          "text": [
            "Extracting ./data/cifar-10-python.tar.gz to ./data\n",
            "Files already downloaded and verified\n"
          ]
        }
      ]
    },
    {
      "cell_type": "markdown",
      "source": [
        "이미지 보기"
      ],
      "metadata": {
        "id": "dB2AVetLSgnT"
      }
    },
    {
      "cell_type": "code",
      "source": [
        "def denormalize(images, means, std_devs):\n",
        "    # image *std_dev + mean\n",
        "    means = torch.tensor(means).reshape(1, 3, 1, 1)\n",
        "    std_devs = torch.tensor(std_devs).reshape(1, 3, 1, 1)\n",
        "    return images * std_devs + means\n",
        "\n",
        "def show_batch(dl):\n",
        "    import matplotlib.pyplot as plt\n",
        "    from torchvision.utils import make_grid\n",
        "    for images, labels in dl:\n",
        "        fig, ax = plt.subplots(figsize=(10,10))\n",
        "        #images = denormalize(images, (0.5, 0.5, 0.5), (0.5, 0.5, 0.5))\n",
        "        ax.imshow(make_grid(images, 10).permute(1,2,0)) #H*W*C\n",
        "        break\n",
        "\n",
        "show_batch(train_loader)"
      ],
      "metadata": {
        "id": "crURWRDZ2d3M",
        "colab": {
          "base_uri": "https://localhost:8080/",
          "height": 209
        },
        "outputId": "278b9a55-0743-407a-ce2e-585e4014144a"
      },
      "execution_count": null,
      "outputs": [
        {
          "output_type": "error",
          "ename": "NameError",
          "evalue": "ignored",
          "traceback": [
            "\u001b[0;31m---------------------------------------------------------------------------\u001b[0m",
            "\u001b[0;31mNameError\u001b[0m                                 Traceback (most recent call last)",
            "\u001b[0;32m<ipython-input-3-80f2b96dcb11>\u001b[0m in \u001b[0;36m<module>\u001b[0;34m()\u001b[0m\n\u001b[1;32m     14\u001b[0m         \u001b[0;32mbreak\u001b[0m\u001b[0;34m\u001b[0m\u001b[0;34m\u001b[0m\u001b[0m\n\u001b[1;32m     15\u001b[0m \u001b[0;34m\u001b[0m\u001b[0m\n\u001b[0;32m---> 16\u001b[0;31m \u001b[0mshow_batch\u001b[0m\u001b[0;34m(\u001b[0m\u001b[0mtrain_loader\u001b[0m\u001b[0;34m)\u001b[0m\u001b[0;34m\u001b[0m\u001b[0;34m\u001b[0m\u001b[0m\n\u001b[0m",
            "\u001b[0;31mNameError\u001b[0m: name 'train_loader' is not defined"
          ]
        }
      ]
    },
    {
      "cell_type": "markdown",
      "source": [
        "use an instance of this class the same way i was using the imported data loader\n",
        "\n"
      ],
      "metadata": {
        "id": "DFQ42Zcc_KD5"
      }
    },
    {
      "cell_type": "code",
      "source": [
        "\"\"\"def get_default_device():\n",
        "  return torch.device(\"cuda\") if torch.cuda.is_available else torch.device(\"cpu\")\n",
        "\n",
        "def to_device(entity, device):\n",
        "  if isinstance(entity, (list, tuple)):\n",
        "    return [to_device(elem, device) for elem in entity]\n",
        "  return entity.to(device, non_blocking=True)\n",
        "\n",
        "class DeviceDataLoader():\n",
        "  #wrapper around dataloaders to transfer batches to specified devices#\n",
        "  def __init__(self, dataloader, device):\n",
        "    self.dl = dataloader\n",
        "    self.device = device\n",
        "\n",
        "  def __iter__(self):\n",
        "    for b in self.dl:\n",
        "      yield to_device(b, self.device)\n",
        "  def __len(self):\n",
        "    return len(self.dl)\n",
        "\n",
        "device = get_default_device()\n",
        "train_loader = DeviceDataLoader(train_loader, device)\n",
        "test_loader = DeviceDataLoader(test_loader, device)\n",
        "#val_dl = DeviceDataLoader(val_dl, device) \"\"\"\n"
      ],
      "metadata": {
        "id": "vXF7C72L9Pjg",
        "colab": {
          "base_uri": "https://localhost:8080/",
          "height": 90
        },
        "outputId": "8eb432d2-86c5-4284-c44d-50af2e88bb6a"
      },
      "execution_count": null,
      "outputs": [
        {
          "output_type": "execute_result",
          "data": {
            "text/plain": [
              "'def get_default_device():\\n  return torch.device(\"cuda\") if torch.cuda.is_available else torch.device(\"cpu\")\\n\\ndef to_device(entity, device):\\n  if isinstance(entity, (list, tuple)):\\n    return [to_device(elem, device) for elem in entity]\\n  return entity.to(device, non_blocking=True)\\n\\nclass DeviceDataLoader():\\n  #wrapper around dataloaders to transfer batches to specified devices#\\n  def __init__(self, dataloader, device):\\n    self.dl = dataloader\\n    self.device = device\\n\\n  def __iter__(self):\\n    for b in self.dl:\\n      yield to_device(b, self.device)\\n  def __len(self):\\n    return len(self.dl)\\n\\ndevice = get_default_device()\\ntrain_loader = DeviceDataLoader(train_loader, device)\\ntest_loader = DeviceDataLoader(test_loader, device)\\n#val_dl = DeviceDataLoader(val_dl, device) '"
            ],
            "application/vnd.google.colaboratory.intrinsic+json": {
              "type": "string"
            }
          },
          "metadata": {},
          "execution_count": 9
        }
      ]
    },
    {
      "cell_type": "code",
      "source": [
        "\"\"\"class IdentityPadding(nn.Module):\n",
        "    def __init__(self, in_channels, out_channels, stride):\n",
        "        super(IdentityPadding, self).__init__()\n",
        "        #with kernel_size=1, max pooling is equivalent to identity mapping with stride\n",
        "        self.identity = nn.MaxPool2d(1,stride=stride)\n",
        "        self.add_channels = out_channels - in_channels\n",
        "        \n",
        "    def forward(self, x):\n",
        "        out = F.pad(x, (0, 0, 0, 0, 0, self.add_channels))\n",
        "        out = self.identity(out)\n",
        "        return out\"\"\"\n",
        "\n",
        "class ResidualBlock(nn.Module):\n",
        "    def __init__(self, in_planes, out_planes, stride=1):\n",
        "        super(ResidualBlock, self).__init__()\n",
        "\n",
        "        #3x3 커널(필터) 사용. stride 값은 dimension 바꿀 때 사용(W, H 줄일 때 stride=2 설정\n",
        "        self.conv1 = nn.Conv2d(in_planes, out_planes, kernel_size=3, stride=stride, padding=1, bias=False) \n",
        "        self.bn1 = nn.BatchNorm2d(out_planes)\n",
        "        self.relu1 = nn.ReLU(inplace=True)\n",
        "\n",
        "        #3x3 커널(필터) 사용\n",
        "        self.conv2 = nn.Conv2d(out_planes, out_planes, kernel_size=3, stride=1, padding=1, bias=False) \n",
        "        self.bn2 = nn.BatchNorm2d(out_planes)\n",
        "      \n",
        "        self.shortcut = nn.Sequential() # identity\n",
        "        if stride != 1  or in_planes != out_planes: # dimension을 맞춰주기 위해 stride값 조절해서 skip connection 할 수 있게\n",
        "\t\t        self.shortcut = nn.Sequential(nn.Conv2d(in_planes, out_planes, kernel_size=1, stride=stride, bias=False),\n",
        "                                          nn.BatchNorm2d(out_planes))\n",
        "        self.relu2 = nn.ReLU(inplace=True)\n",
        "      \n",
        "    def forward(self, x):\n",
        "        out = self.relu1(self.bn1(self.conv1(x)))\n",
        "        out = self.bn2(self.conv2(out))\n",
        "        out += self.shortcut(x) # identity mapping. skip connection\n",
        "        out = self.relu2(out)\n",
        "        return out\n",
        "\n",
        "\n",
        "class ResNet(nn.Module):\n",
        "    def __init__(self, block, num_blocks, num_classes=10): # block 개수 입력받음\n",
        "        super(ResNet, self).__init__()\n",
        "        self.in_planes = 64\n",
        "        \n",
        "        # 64개 3x3 filters 사용\n",
        "        # image-net 학습할 때 사용했던 capacity 큰 구조를 따르면서 입력단의 크기만 cifar-10에 맞게\n",
        "        self.conv1 = nn.Conv2d(in_channels=3, out_channels=64, kernel_size=3, stride=1, padding=1, bias=False)\n",
        "        self.bn1 = nn.BatchNorm2d(64)\n",
        "        # 논문과 동일하게 filter 개수 설정 (64, 128, 256, 512)\n",
        "        # residualblock 이어붙임\n",
        "        # filter 개수 증가할 때마다 W, H 감소할 수 있도록 함 (stride=2)\n",
        "        # Residual block(basic block) 당 conv layer가 2개. 그걸 2번 연결 => layer1은 4개의 conv layer, layer1~4은 총 16개의 conv layer\n",
        "        self.layer1 = self.make_layer(block, 64, num_blocks[0], stride=1)\n",
        "        self.layer2 = self.make_layer(block, 128, num_blocks[1], stride=2)\n",
        "        self.layer3 = self.make_layer(block, 256, num_blocks[2], stride=2)\n",
        "        self.layer4 = self.make_layer(block, 512, num_blocks[3], stride=2)\n",
        "        self.linear = nn.Linear(512, num_classes) # 마지막에 fully-connected layer\n",
        "\n",
        "    def make_layer(self, block, out_planes, num_blocks, stride): # layer 구성\n",
        "        strides = [stride] + [1] * (num_blocks - 1) # 첫 번째 conv 연산에 의해서만 W, H가 줄어들 수 있게. 그 다음 이어붙이는 것들은 같은 W H 유지할 수 있도록 stride=1\n",
        "        layers = []\n",
        "\n",
        "        # 다음 layer를 위해 확장된 채널 수로 업데이트\n",
        "        for stride in strides:\n",
        "            layers.append(block(self.in_planes, out_planes, stride))\n",
        "            self.in_planes = out_planes\n",
        "        return nn.Sequential(*layers)\n",
        "\n",
        "    def forward(self, x):\n",
        "        out = nn.ReLU(self.bn1(self.conv1(x)))\n",
        "        out = self.layer1(out)\n",
        "        out = self.layer2(out)\n",
        "        out = self.layer3(out)\n",
        "        out = self.layer4(out)\n",
        "        out = F.avg_pool2d(out, 4)\n",
        "        out = out.view(out.size(0), -1)\n",
        "        out = self.linear(out)\n",
        "        return out\n",
        "\n",
        "\n",
        "device = 'cuda'\n",
        "\n",
        "ResNet18 = ResNet(block=ResidualBlock, num_blocks=[2,2,2,2]) # ResidualBlock이 두 번씩 사용됨\n",
        "ResNet34 = ResNet(block=ResidualBlock, num_blocks=[3,4,6,3]) # ResidualBlock이 3, 4, 6, 3번씩 사용됨"
      ],
      "metadata": {
        "id": "X924Wv6JEVy9"
      },
      "execution_count": null,
      "outputs": []
    },
    {
      "cell_type": "code",
      "source": [
        ""
      ],
      "metadata": {
        "id": "MFBs3ow9rowL"
      },
      "execution_count": null,
      "outputs": []
    }
  ]
}