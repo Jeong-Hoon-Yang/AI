{
  "nbformat": 4,
  "nbformat_minor": 0,
  "metadata": {
    "colab": {
      "name": "VGG 제출.ipynb",
      "provenance": [],
      "collapsed_sections": []
    },
    "kernelspec": {
      "name": "python3",
      "display_name": "Python 3"
    },
    "language_info": {
      "name": "python"
    },
    "accelerator": "GPU"
  },
  "cells": [
    {
      "cell_type": "code",
      "execution_count": 1,
      "metadata": {
        "id": "qS9ZoxsGLoid"
      },
      "outputs": [],
      "source": [
        "import torch\n",
        "import torchvision\n",
        "import torchvision.transforms as transforms\n",
        "import matplotlib.pyplot as plt\n",
        "import numpy as np\n",
        "import torch.nn as nn\n",
        "import torch.optim as optim"
      ]
    },
    {
      "cell_type": "code",
      "source": [
        "transform = transforms.Compose(\n",
        "    [transforms.ToTensor(),\n",
        "     transforms.Normalize((0.5, 0.5, 0.5), (0.5, 0.5, 0.5))])\n",
        "\n",
        "batch_size = 32\n",
        "\n",
        "trainset = torchvision.datasets.CIFAR10(root='./data', train=True,\n",
        "                                        download=True, transform=transform)\n",
        "trainloader = torch.utils.data.DataLoader(trainset, batch_size=batch_size,\n",
        "                                          shuffle=True, num_workers=2)\n",
        "\n",
        "testset = torchvision.datasets.CIFAR10(root='./data', train=False,\n",
        "                                       download=True, transform=transform)\n",
        "testloader = torch.utils.data.DataLoader(testset, batch_size=batch_size,\n",
        "                                         shuffle=False, num_workers=2)\n",
        "\n",
        "classes = ('plane', 'car', 'bird', 'cat',\n",
        "           'deer', 'dog', 'frog', 'horse', 'ship', 'truck')"
      ],
      "metadata": {
        "id": "B1WXNnzlLx3W"
      },
      "execution_count": null,
      "outputs": []
    },
    {
      "cell_type": "code",
      "source": [
        "def imageshow(img):\n",
        "  img = img / 2 + 0.5\n",
        "  npimg = img.numpy()\n",
        "  plt.imshow(np.transpose(npimg, (1, 2, 0)))\n",
        "  plt.show()"
      ],
      "metadata": {
        "id": "ilU0ZbX9LyLn"
      },
      "execution_count": 3,
      "outputs": []
    },
    {
      "cell_type": "code",
      "source": [
        "dataiter = iter(trainloader)\n",
        "images, labels = dataiter.next()\n",
        "\n",
        "# show images\n",
        "imageshow(torchvision.utils.make_grid(images))\n",
        "# print labels\n",
        "print(' '.join(f'{classes[labels[j]]:5s}' for j in range(batch_size)))"
      ],
      "metadata": {
        "id": "0GRxZ4xDLzWC"
      },
      "execution_count": null,
      "outputs": []
    },
    {
      "cell_type": "code",
      "source": [
        "cfg8 = [32, 32, 'M', 64, 64, 'M', 128, 128, 'M']\n",
        "cfg12 = [64, 64, 'M', 128, 128, 'M', 256, 256, 256, 'M', 512, 512, 512, 'M']"
      ],
      "metadata": {
        "id": "DEcNLwNbL0po"
      },
      "execution_count": 5,
      "outputs": []
    },
    {
      "cell_type": "code",
      "source": [
        "def make_layer(config):\n",
        "    layers = []\n",
        "    in_planes = 3\n",
        "    for value in config:\n",
        "        if value == 'M':\n",
        "            layers.append(nn.MaxPool2d(kernel_size=2, stride=2))\n",
        "        else:\n",
        "            layers.append(nn.Conv2d(in_planes, value, kernel_size=3, padding=1))\n",
        "            layers.append(nn.ReLU())\n",
        "            in_planes = value\n",
        "    return nn.Sequential(*layers)"
      ],
      "metadata": {
        "id": "1wgdH9_tL2CT"
      },
      "execution_count": 6,
      "outputs": []
    },
    {
      "cell_type": "code",
      "source": [
        "class VGG(nn.Module):\n",
        "    def __init__(self, config):\n",
        "        super(VGG, self).__init__()\n",
        "        self.features = make_layer(config)\n",
        "        \n",
        "        self.classifier = nn.Sequential(\n",
        "            nn.Linear(512*2*2, 256),\n",
        "            nn.ReLU(),\n",
        "            nn.Dropout(0.5),\n",
        "            nn.Linear(256, 10)  #cifar10 has 10 ouputs\n",
        "        )\n",
        "        \n",
        "    def forward(self, x):\n",
        "        out = self.features(x)\n",
        "        out = torch.flatten(out,1)\n",
        "        out = self.classifier(out)\n",
        "        return out"
      ],
      "metadata": {
        "id": "ykl1FqHFL3Ei"
      },
      "execution_count": 7,
      "outputs": []
    },
    {
      "cell_type": "code",
      "source": [
        "model = VGG(cfg12)"
      ],
      "metadata": {
        "id": "RWemNPjXL4To"
      },
      "execution_count": 8,
      "outputs": []
    },
    {
      "cell_type": "code",
      "source": [
        "def init_weights(m):\n",
        "    if isinstance(m, nn.Linear):\n",
        "        torch.nn.init.xavier_uniform(m.weight)\n",
        "    if isinstance(m, nn.Conv2d):\n",
        "        torch.nn.init.kaiming_uniform(m.weight)\n",
        "\n",
        "model.apply(init_weights)"
      ],
      "metadata": {
        "id": "HNg4GqJjL5bG"
      },
      "execution_count": null,
      "outputs": []
    },
    {
      "cell_type": "code",
      "source": [
        "learning_rate = 0.002\n",
        "num_epoch = 20\n",
        "\n",
        "loss_fn = nn.CrossEntropyLoss()\n",
        "optimizer = optim.SGD(model.parameters(), lr=learning_rate, momentum=0.9, weight_decay=0.0001)\n",
        "#optimizer = optim.Adam(model.parameters(), lr=learning_rate)\n",
        "train_loss = 0\n",
        "valid_loss = 0\n",
        "correct = 0\n",
        "total_cnt = 0\n",
        "best_acc = 0"
      ],
      "metadata": {
        "id": "iybTj30nL6tt"
      },
      "execution_count": 16,
      "outputs": []
    },
    {
      "cell_type": "code",
      "source": [
        "def lr_scheduler(optimizer, epoch):\n",
        "    lr = learning_rate\n",
        "    if epoch >= 30:\n",
        "        lr /= 2\n",
        "    if epoch >= 60:\n",
        "        lr /= 2\n",
        "    for param_group in optimizer.param_groups:\n",
        "        param_group['lr'] = lr"
      ],
      "metadata": {
        "id": "2cvb9kpQL8RI"
      },
      "execution_count": 17,
      "outputs": []
    },
    {
      "cell_type": "code",
      "source": [
        "train_accu = []\n",
        "train_losses = []"
      ],
      "metadata": {
        "id": "_sBCeWQhL9ak"
      },
      "execution_count": 18,
      "outputs": []
    },
    {
      "cell_type": "code",
      "source": [
        "for epoch in range(num_epoch):\n",
        "    print(f\"====== { epoch+1} epoch of { num_epoch } ======\")\n",
        "    model.train()\n",
        "    lr_scheduler(optimizer, epoch)\n",
        "    train_loss = 0\n",
        "    valid_loss = 0\n",
        "    correct = 0\n",
        "    total_cnt = 0\n",
        "    # Train Phase\n",
        "    for step, batch in enumerate(trainloader):\n",
        "        #  input and target\n",
        "        batch[0], batch[1] = batch[0], batch[1]\n",
        "        optimizer.zero_grad()\n",
        "        \n",
        "        logits = model(batch[0])\n",
        "        loss = loss_fn(logits, batch[1])\n",
        "        loss.backward()\n",
        "        \n",
        "        optimizer.step()\n",
        "        train_loss += loss.item()\n",
        "        _, predict = logits.max(1)\n",
        "        \n",
        "        total_cnt += batch[1].size(0)\n",
        "        correct +=  predict.eq(batch[1]).sum().item()\n",
        "        \n",
        "        if (step+1) % 500 == 0 and step != 0:\n",
        "            print(f\"\\n====== { step } Step of { len(trainloader) } ======\")\n",
        "            print(f\"Train Acc : { correct / total_cnt }\")\n",
        "            print(f\"Train Loss : { loss.item() / batch[1].size(0) }\")\n",
        "    accu = correct/ total_cnt\n",
        "    train_loss = loss.item() / batch[1].size(0)\n",
        "\n",
        "    train_accu.append(accu)\n",
        "    train_losses.append(train_loss)\n",
        "            \n",
        "    correct = 0\n",
        "    total_cnt = 0"
      ],
      "metadata": {
        "id": "j2-9hWPqL-Ux"
      },
      "execution_count": null,
      "outputs": []
    },
    {
      "cell_type": "code",
      "source": [
        "plt.plot(train_accu, '-o')\n",
        "plt.plot(train_losses, '-o')\n",
        "plt.xlabel('epoch')\n",
        "plt.legend(['Accuracy', 'Loss'])\n",
        "plt.title('Train Accuracy & Loss')\n",
        "plt.show()"
      ],
      "metadata": {
        "id": "LXY9R9KkL_IU"
      },
      "execution_count": null,
      "outputs": []
    },
    {
      "cell_type": "code",
      "source": [
        "with torch.no_grad():\n",
        "        model.eval()\n",
        "        for step, batch in enumerate(testloader):\n",
        "            # input and target\n",
        "            batch[0], batch[1] = batch[0], batch[1]\n",
        "            total_cnt += batch[1].size(0)\n",
        "            logits = model(batch[0])\n",
        "            valid_loss += loss_fn(logits, batch[1])\n",
        "            _, predict = logits.max(1)\n",
        "            correct += predict.eq(batch[1]).sum().item()\n",
        "        valid_acc = correct / total_cnt\n",
        "        print(f\"\\nValid Acc : { valid_acc }\")    \n",
        "        print(f\"Valid Loss : { valid_loss / total_cnt }\")"
      ],
      "metadata": {
        "id": "nQ9MPf9EMApz"
      },
      "execution_count": null,
      "outputs": []
    }
  ]
}